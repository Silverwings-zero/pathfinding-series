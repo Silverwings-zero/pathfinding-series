{
  "nbformat": 4,
  "nbformat_minor": 0,
  "metadata": {
    "colab": {
      "name": "robot.ipynb",
      "provenance": [],
      "collapsed_sections": [],
      "include_colab_link": true
    },
    "kernelspec": {
      "name": "python3",
      "display_name": "Python 3"
    }
  },
  "cells": [
    {
      "cell_type": "markdown",
      "metadata": {
        "id": "view-in-github",
        "colab_type": "text"
      },
      "source": [
        "<a href=\"https://colab.research.google.com/github/Silverwings-zero/pathfinding-series/blob/master/robot.ipynb\" target=\"_parent\"><img src=\"https://colab.research.google.com/assets/colab-badge.svg\" alt=\"Open In Colab\"/></a>"
      ]
    },
    {
      "cell_type": "markdown",
      "metadata": {
        "id": "NOdOmvjtnuUE",
        "colab_type": "text"
      },
      "source": [
        "# Project 2: Probabilistic Inference\n",
        "\n",
        "Due Date: Monday, February 3, 2020 @ 11:59 P.M.\n",
        "\n",
        "Student Name: ENTER NAME HERE\n",
        "\n",
        "In this project, you will be implementing code to perform probabilistic inference in a grid world. You will also be asked to answer some open-ended questions as well. The submission details are provided at the end of the page.\n",
        "\n",
        "### Instruction\n",
        "For this project, you'll be using Google colab, which is a Jupyter Notebook hosted on Google Drive. If you've used Jupyter Notebook before, it'll feel familiar to you. If not, feel free to watch this short introductory video: https://youtu.be/inN8seMm7UI \n",
        "\n",
        "In order to start working on the assignment, you would need to save a copy of this colab onto your Google Drive as this file is read-only. This can be done by going on the top left hand corner and selecting `File -> Save a copy in Drive...` It should automatically create a copy and store a local copy on your Google Drive. Now you can edit the file! If you're curious on where the file is stored, select `File -> Locate in Drive`\n",
        "\n",
        "Your job is to implement the functions below. Don't change the function names or parameters as they need to be consistent with the autograders. Make sure the output types are consistent with the comments as well."
      ]
    },
    {
      "cell_type": "markdown",
      "metadata": {
        "id": "fihbx28on2jA",
        "colab_type": "text"
      },
      "source": [
        "# Coding [50 Points]\n",
        "\n",
        "In the coding section, you will be implementing functions to calculate certain probability functions, sampling from these functions, as well as performing Bayes Net Inference. Please go through this first code section carefully, with the imports and variables you will need. Also, please use `generate_random_float` to get a random float between 0 and 1."
      ]
    },
    {
      "cell_type": "code",
      "metadata": {
        "id": "MUyRvKg2n3L_",
        "colab_type": "code",
        "colab": {}
      },
      "source": [
        "# All imports and variables you will need\n",
        "\n",
        "import numpy as np\n",
        "OBSERVATIONS = [i for i in range(10)]  # all possible vertical coordinates\n",
        "STATES = [(i, j) for i in range(10) for j in range(10)]  # all 100 states\n",
        "ACTIONS = [\"Left\", \"Right\", \"Up\", \"Down\"]  # the four possible actions\n",
        "\n",
        "def generate_random_float():\n",
        "  \"\"\" Returns a random float between 0 and 1 \n",
        "  \"\"\"\n",
        "  return np.random.rand()"
      ],
      "execution_count": 0,
      "outputs": []
    },
    {
      "cell_type": "markdown",
      "metadata": {
        "id": "EZALXm4Bn72M",
        "colab_type": "text"
      },
      "source": [
        "## Calculating Probabilities\n",
        "\n",
        "### 1. `action_prior(action)` [2 points]\n",
        "\n",
        "This function will take in one of the actions in `[Left, Right, Up, Down]`, and return the probability of that action occurring. You will be returning a `float` between 0 and 1 which is the probability of that action. You will be using the following table as the probability mass function for that action.\n",
        "\n",
        "$a_{i}$ | $P$$($$A$$=$$a_{i}$$)$\n",
        "--- | ---\n",
        "Left | 0.2\n",
        "Right | 0.6\n",
        "Up | 0.1\n",
        "Down | 0.1"
      ]
    },
    {
      "cell_type": "code",
      "metadata": {
        "id": "V_p6Rigxn5Ny",
        "colab_type": "code",
        "colab": {}
      },
      "source": [
        "def action_prior(action):\n",
        "  \"\"\"Return prior probability distribution on an action.\n",
        "    arguments:\n",
        "      action (string): \"Left\", \"Right\", \"Up\", \"Down\"\n",
        "    returns:\n",
        "      probability of given action (float).\n",
        "  \"\"\"\n",
        "  pass"
      ],
      "execution_count": 0,
      "outputs": []
    },
    {
      "cell_type": "markdown",
      "metadata": {
        "id": "K1EjuknYoAJB",
        "colab_type": "text"
      },
      "source": [
        "### 2. `state_prior(state)` [2 points]\n",
        "\n",
        "This function will take in one of the states of the grid world and return the probability of the robot being in that state. You will be returning a `float` between 0 and 1 which is the probability of that action. A state is represented by $(i,j)$, where $i$ is the row number in the grid, between 0 and 9 and $j$ is the column number in the grid, between 0 and 9. You will be using the following grid world diagram to calculate the probability of a state. You should use a numpy array to represent the grid world. The origin of this grid world (0,0) is in the top left corner. $i$ increases as you go down in the grid, and $j$ increases as you go right in the grid.\n",
        "\n",
        "![](https://i.ibb.co/TqfCLCw/grid-world.png)\n"
      ]
    },
    {
      "cell_type": "code",
      "metadata": {
        "id": "cgvrpOwTn_OW",
        "colab_type": "code",
        "colab": {}
      },
      "source": [
        "def state_prior(state):\n",
        "  \"\"\"Return prior probability distribution on a state.\n",
        "  arguments:\n",
        "      state (tuple): (i: int, j: int)\n",
        "  returns:\n",
        "      probability of given state (float).\n",
        "  \"\"\"\n",
        "  # Use np.array to create a 2D array that represents the prior on the state\n",
        "  # (i,j) where i is the row index and j is the column index of the agent's\n",
        "  # position.\n",
        "  pass"
      ],
      "execution_count": 0,
      "outputs": []
    },
    {
      "cell_type": "markdown",
      "metadata": {
        "id": "_qWsskLIoJCY",
        "colab_type": "text"
      },
      "source": [
        "### 3. `sensor_model(k, S)` [3 points]\n",
        "\n",
        "This function will take in a value of the sensor $k$, and the state $(i,j)$ that the robot is at. You will need to calculate $P(O=k|S)$. The sensor reports the row that the robot is at in the grid world. You can use the following equations to implement this function.\n",
        "\n",
        "![](https://i.ibb.co/qxF09cW/sensor-model.png)\n"
      ]
    },
    {
      "cell_type": "code",
      "metadata": {
        "id": "Oq0VesTXoLZW",
        "colab_type": "code",
        "colab": {}
      },
      "source": [
        "# Define the sensor model conditional distribution, P(O|S)\n",
        "def sensor_model(k, S):\n",
        "  \"\"\"Give value of Conditional Probability Table (CPT) for sensor model P(O|S).\n",
        "  arguments:\n",
        "      k: the value of the sensor, corresponding to a row in the grid world (i).\n",
        "      S (int,int): a tuple (i,j), representing the position in the grid.\n",
        "  returns:\n",
        "      P(k|i,j) (float).\n",
        "  notes:\n",
        "      Sensor reports noisy observation of vertical coordinate i.\n",
        "  \"\"\"\n",
        "  pass"
      ],
      "execution_count": 0,
      "outputs": []
    },
    {
      "cell_type": "markdown",
      "metadata": {
        "id": "1nVA31ifoQQD",
        "colab_type": "text"
      },
      "source": [
        "### 4.`transition_model(T, S, A)` [5 points]\n",
        "\n",
        "This function will take in the next state the robot is in, $T = (i,j)$, the current state the robot is in, $S = (i,j)$, and $A$, an action from `[Left, Right, Up, Down]`. You will be calculating $P(T|S, A)$. You will be using the following statements to calculate the probability.\n",
        "\n",
        "\n",
        "$T$ is the correct state when you take action $A$ from $S$; $P(T|S,A) = 0.85$ \\\\\n",
        "$T$ is a possible state when you take an action other than $A$ from $S$; $P(T|S,A) = 0.05$ \\\\\n",
        "Otherwise; $P(T|S,A) = 0$\n",
        "\n",
        "This model accounts for the robot possibly taking the wrong action.\n",
        "\n",
        "**NOTE:** If the robot is at the edge of the grid world, and tries to perform an action that will take it out of the grid world, it will stay in the same state (location). \n"
      ]
    },
    {
      "cell_type": "code",
      "metadata": {
        "id": "SX9FiHG6oPrx",
        "colab_type": "code",
        "colab": {}
      },
      "source": [
        "# Define the state transition model P(T|S,A)\n",
        "def transition_model(T, S, A):\n",
        "  \"\"\"Give value of CPT for transition model P(T|S,A).\n",
        "  arguments:\n",
        "      T (int,int): a tuple (i,j), representing the next position in the grid\n",
        "      S (int,int): a tuple (i,j), representing the position in the grid.\n",
        "      A (str): a string representing the action to be taken\n",
        "  returns:\n",
        "      P(T|S,A) (float).\n",
        "  \"\"\"\n",
        "  pass"
      ],
      "execution_count": 0,
      "outputs": []
    },
    {
      "cell_type": "markdown",
      "metadata": {
        "id": "BNoaXFRdoZbV",
        "colab_type": "text"
      },
      "source": [
        "### Extra Credit: `transition_model_portal(T,S,A)` [5 points]\n",
        "\n",
        "You will be implementing the same transition model as above; however, there are portals in the grid world now. The portals are as such:\n",
        "\n",
        "1. Going Right from (3,4) takes you to (6,3)\n",
        "2. Going Up from (0,1) takes you to (5,5)\n",
        "3. Going Left from (3,8) takes you to (0,0)\n",
        "\n",
        "Once again, you will be using the following statements to calculate the probability:\n",
        "\n",
        "$T$ is the correct state when you take action $A$ from $S$; $P(T|S,A) = 0.85$ \\\\\n",
        "$T$ is a possible state when you take an action other than $A$ from $S$; $P(T|S,A) = 0.05$ \\\\\n",
        "Otherwise; $P(T|S,A) = 0$\n",
        "\n",
        "**NOTE**: If the robot is at the edge of the grid world, and tries to perform an action that will take it out of the grid world, it will stay in the same state (location), unless a portal dictates otherwise."
      ]
    },
    {
      "cell_type": "code",
      "metadata": {
        "id": "VM-5_sy3oZ3u",
        "colab_type": "code",
        "colab": {}
      },
      "source": [
        "def transition_model_portal(T, S, A):\n",
        "  \"\"\"Give value of CPT for transition model P(T|S,A) with portals.\n",
        "    arguments:\n",
        "        T (int,int): a tuple (i,j), representing the next position in the grid\n",
        "        S (int,int): a tuple (i,j), representing the position in the grid.\n",
        "        A (str): a string representing the action to be taken\n",
        "    returns:\n",
        "        P(T|S,A) (float).\n",
        "  \"\"\"\n",
        "  pass"
      ],
      "execution_count": 0,
      "outputs": []
    },
    {
      "cell_type": "markdown",
      "metadata": {
        "id": "FtcdE-KKoj8X",
        "colab_type": "text"
      },
      "source": [
        "## Sampling\n",
        "\n",
        "### 1. `calculate_cdf(pmf, ordered_outcomes)` [5 points]\n",
        "\n",
        "This function will take in a probability mass function (pmf) and all the possible outcomes the pmf can take. For example, if we consider the cdf for actions, the variable `ordered_outcomes` will be `[Left, Right, Up, Down]`. You will be returning a function `cdf(outcome)`, which returns the cumulative probability of that outcome. For example, in the table below, that would be $F(a_i)$. **HINT**: Numpy will be useful here!\n",
        "\n",
        "$a_{i}$ | $P$$($$A$$=$$a_{i}$$)$ | $F$$($$a_{i}$$)$\n",
        "--- | --- | ---\n",
        "Left | 0.2 | 0.2\n",
        "Right | 0.6 | 0.8\n",
        "Up | 0.1 | 0.9\n",
        "Down | 0.1 | 1.0\n"
      ]
    },
    {
      "cell_type": "code",
      "metadata": {
        "id": "6-gJgzyWof54",
        "colab_type": "code",
        "colab": {}
      },
      "source": [
        "# Create the function cdf\n",
        "def calculate_cdf(pmf, ordered_outcomes):\n",
        "  \"\"\"Calculate cumulative distribution function.\n",
        "  arguments:\n",
        "      pmf (function): probability mass function.\n",
        "      ordered_outcomes (list): all outcomes in an ordered list.\n",
        "  returns:\n",
        "      a function that represents the CDF\n",
        "  note:\n",
        "      The ordered_outcomes defines how the CDF behaves.\n",
        "  \"\"\"\n",
        "  \n",
        "  def cdf(outcome):\n",
        "    pass\n",
        "\n",
        "  return cdf"
      ],
      "execution_count": 0,
      "outputs": []
    },
    {
      "cell_type": "markdown",
      "metadata": {
        "id": "ftggMLgyorVh",
        "colab_type": "text"
      },
      "source": [
        "### 2. `sample_from_pmf(pmf, ordered_outcomes)` [6 points]\n",
        " \n",
        "This function will take in a pmf and all the possible outcomes the pmf can take, and the goal is to sample from this pmf, using inverse transform sampling. You will be returning either an action or state, depending on the pmf and ordered outcomes.\n",
        "\n",
        "**HINT**: Numpy will be useful here! \n",
        "\n",
        "Please use `generate_random_float` to get a random float between 0 and 1."
      ]
    },
    {
      "cell_type": "code",
      "metadata": {
        "id": "CRHr-lq2o7B7",
        "colab_type": "code",
        "colab": {}
      },
      "source": [
        "# Fill in the body of the following function to sample from an arbitrary PMF.\n",
        "def sample_from_pmf(pmf, ordered_outcomes):\n",
        "  \"\"\"Sample from a PMF\n",
        "    arguments:\n",
        "      pmf (function): a probability mass function\n",
        "      ordered_outcomes (list): ordered list of all outcomes\n",
        "    returns:\n",
        "      a state or an action, depending on the pmf and outcomes\n",
        "  \"\"\"\n",
        "  pass"
      ],
      "execution_count": 0,
      "outputs": []
    },
    {
      "cell_type": "markdown",
      "metadata": {
        "id": "g0aajw_0o_Qt",
        "colab_type": "text"
      },
      "source": [
        "### 3. `sample_from_sensor_model(state)` [3 points]\n",
        "\n",
        "This function is similar to `sample_from_pmf`. The only difference is that this is specific to the sensor model, and hence, it has the additional parameter `state`, referring to the $S$ in $P(O|S)$. So, in this case, your pmf will be `sensor_model`. You will be returning an observation, which is a value of the sensor. \n",
        "\n",
        "**HINT**: Numpy will be useful here!\n",
        "\n",
        "Please use `generate_random_float` to get a random float between 0 and 1."
      ]
    },
    {
      "cell_type": "code",
      "metadata": {
        "id": "0NO6uasJo-wd",
        "colab_type": "code",
        "colab": {}
      },
      "source": [
        "def sample_from_sensor_model(state):\n",
        "  \"\"\"Sample from sensor model\n",
        "  arguments: \n",
        "      state (int, int): a pair (i,j), representing the position in the grid.\n",
        "  returns:\n",
        "      observation (int): the sensor reading that has been sampled\n",
        "  \"\"\"\n",
        "  pass"
      ],
      "execution_count": 0,
      "outputs": []
    },
    {
      "cell_type": "markdown",
      "metadata": {
        "id": "DO3iIFJmpFD5",
        "colab_type": "text"
      },
      "source": [
        "### 4. `sample_from_transition_model(state, action)` [3 points]\n",
        "This function is also similar to `sample_from_pmf`. The difference is that this is specific to the transition model, and hence, it has additional parameters `state` and `action`, referring to the $S$ and $A$ in $P(T|S,A)$. So, in this case, your pmf will be `transition_model`. You will be returning a state $T$.\n",
        "\n",
        "**HINT**: Numpy will be useful here!\n",
        "\n",
        "Please use `generate_random_float` to get a random float between 0 and 1.\n"
      ]
    },
    {
      "cell_type": "code",
      "metadata": {
        "id": "5qq2wM_spC_n",
        "colab_type": "code",
        "colab": {}
      },
      "source": [
        "def sample_from_transition_model(state, action):\n",
        "  \"\"\"Sample from transition model\n",
        "  arguments:\n",
        "      state (int, int): a pair (i,j), representing the position in the grid.\n",
        "      action (str): the action taken\n",
        "  returns:\n",
        "      next_state (int, int): a pair (i,j), representing the robot's next position in the grid\n",
        "  \"\"\"\n",
        "  pass"
      ],
      "execution_count": 0,
      "outputs": []
    },
    {
      "cell_type": "markdown",
      "metadata": {
        "id": "3AkjxvBSpLGH",
        "colab_type": "text"
      },
      "source": [
        "## Inference\n",
        "\n",
        "![](https://i.ibb.co/QmdLWvh/Screen-Shot-2020-01-21-at-7-26-56-AM.png)\n",
        "\n",
        "### 1. `sample_from_dbn()` [9 points]\n",
        "\n",
        "In this function, you will be sampling from a dynamic Bayes net. You will need to perform the sampling for the Bayes net shown above, which has three observations, three states and two actions. You will be returning all the sampled states, observations and actions in a dictionary `samples`. The sampling functions you have written earlier will be helpful in this. Make sure you go through the slides, as this will be helpful in creating your algorithm.\n"
      ]
    },
    {
      "cell_type": "code",
      "metadata": {
        "id": "jxNwoK2qpH7h",
        "colab_type": "code",
        "colab": {}
      },
      "source": [
        "def sample_from_dbn():\n",
        "  \"\"\"Sample from a dynamic bayes network\n",
        "  returns:\n",
        "      samples (dict): A dictionary with the states, observations and actions sampled\n",
        "  \"\"\"\n",
        "  samples = {'states': [], 'observations': [], 'actions': []}\n",
        "  # Your code below\n",
        "  \n",
        "  return samples"
      ],
      "execution_count": 0,
      "outputs": []
    },
    {
      "cell_type": "markdown",
      "metadata": {
        "id": "0H56FH_upRcC",
        "colab_type": "text"
      },
      "source": [
        "### 2. `maximum_probable_explanation(actions, observations)` [12 points]\n",
        "In this function, you will implement MPE, which infers the most probable values of the states, given the actions and observations. You will be implementing MPE for the Bayes net above. You are asked to maximize the posterior probability\n",
        "$$P(S_1, S_2, S_3|O_1=o_1, A_1=a_1, O_2=o_2, A_2=a_2, O_3=o_3)$$\n",
        "To do this, you will implement a highly specialized version of the max-product algorithm. You will be returning the three states $S_1, S_2, S_3$ in a list.\n",
        "\n",
        "**Note:** there are three helper functions below. They are partly implemented and is there to aid you through the algorithm, but our way of implementation is not required as long as the main function `maximum_probable_explanation` works correctly."
      ]
    },
    {
      "cell_type": "code",
      "metadata": {
        "id": "NJVp8brmpOeI",
        "colab_type": "code",
        "colab": {}
      },
      "source": [
        "def create_lookup_table_for_s1(o1, a1):\n",
        "  \"\"\"Create a lookup table for state 1\n",
        "    arguments:\n",
        "      o1 (int): observation 1\n",
        "      a1 (str): action 1\n",
        "    returns:\n",
        "      g1 (dict): lookup table for s1\n",
        "      v1 (dict): value table for s1\n",
        "  \"\"\"\n",
        "  def product1(s1, s2):\n",
        "    \"\"\"Inner function to calculate the factor value of state 1 and 2\n",
        "      arguments:\n",
        "        s1 (int, int): state 1\n",
        "        s2 (int, int): state 2\n",
        "      returns:\n",
        "        value of the factor (float)\n",
        "    \"\"\"\n",
        "    pass\n",
        "  g1 = {}\n",
        "  v1 = {}\n",
        "  # Your code below for create_lookup_table_for_s1\n",
        "\n",
        "\n",
        "\n",
        "  # Your code above\n",
        "  return g1, v1\n",
        "\n",
        "def create_lookup_table_for_s2(o2, a2, v1):\n",
        "  \"\"\"Create a lookup table for state 2\n",
        "    arguments:\n",
        "      o2 (int): observation 2\n",
        "      a2 (str): action 2\n",
        "      v1 (dict): value table for state 1\n",
        "    returns:\n",
        "      g2 (dict): lookup table for s2\n",
        "      v2 (dict): value table for s2\n",
        "  \"\"\"\n",
        "  def product2(s2, s3):\n",
        "    \"\"\"Inner function to calculate the factor value of state 2 and 3\n",
        "      arguments:\n",
        "        s2 (int, int): state 2\n",
        "        s3 (int, int): state 3\n",
        "      returns:\n",
        "        value of the factor (float)\n",
        "    \"\"\"\n",
        "    pass\n",
        "  g2 = {}\n",
        "  v2 = {}\n",
        "  # Your code below for create_lookup_table_for_s2\n",
        "\n",
        "\n",
        "  # Your code above\n",
        "  return g2, v2\n",
        "\n",
        "\n",
        "def create_lookup_table_for_s3(o3, v2):\n",
        "  \"\"\"Create a lookup table for state 3\n",
        "    arguments:\n",
        "      o3 (int): observation 3\n",
        "      v2 (dict): value table for s2\n",
        "    returns:\n",
        "      g3 (state): lookup table for s3\n",
        "      v3 (float): value table for s3\n",
        "  \"\"\"\n",
        "  def product3(s3):\n",
        "    \"\"\"Inner function to calculate the factor value of state 2 and 3\n",
        "      arguments:\n",
        "        s3 (int, int): state 3\n",
        "      returns:\n",
        "        value of the factor (float)\n",
        "    \"\"\"\n",
        "    pass\n",
        "  g3 = None\n",
        "  v3 = None\n",
        "  # Your code below for create_lookup_table_for_s3\n",
        "\n",
        "\n",
        "\n",
        "  # Your code above\n",
        "  return g3, v3\n",
        "\n",
        "def maximum_probable_explanation(actions, observations):\n",
        "  \"\"\"Calculate the most probable states given the actions and observations\n",
        "      arguments:\n",
        "        actions ([str]): Array of all actions taken\n",
        "        observations ([int]): Sensor measurements\n",
        "      returns:\n",
        "        list of most probable states ([(int, int)])\n",
        "  \"\"\"\n",
        "  # Known values\n",
        "  o1, o2, o3 = observations\n",
        "  a1, a2 = actions\n",
        "\n",
        "  # eliminate S1 -> lookup table S1=g1(S2)\n",
        "  g1, v1 = create_lookup_table_for_s1(o1, a1)\n",
        "\n",
        "  # eliminate S2 -> lookup table S2=g2(S3)\n",
        "  g2, v2 = create_lookup_table_for_s2(o2, a2, v1)\n",
        "\n",
        "  # eliminate S3 -> lookup table S3=g3()\n",
        "  g3, v3 = create_lookup_table_for_s3(o3, v2)\n",
        "\n",
        "  # back-substitute (use the lookup tables to find the most probable states)\n",
        "  # Your code below\n",
        "\n",
        "  pass\n"
      ],
      "execution_count": 0,
      "outputs": []
    },
    {
      "cell_type": "markdown",
      "metadata": {
        "id": "TyNqymAKpUX0",
        "colab_type": "text"
      },
      "source": [
        "### EXTRA CREDIT: `general_maximum_probable_explanation(actions, observations)` [5 points]\n",
        "\n",
        "You can receive extra credit if your implementation of MPE is for a Bayes Net having the same structure as above, but having any number of states. So, if you're given $N$ observations and $N - 1$ actions, you will be returning $N$ states."
      ]
    },
    {
      "cell_type": "code",
      "metadata": {
        "id": "6fUk894upXde",
        "colab_type": "code",
        "colab": {}
      },
      "source": [
        "def general_maximum_probable_explanation(actions, observations):\n",
        "  \"\"\"Calculate the most probable states given the actions and observations\n",
        "      arguments:\n",
        "        actions ([str]): Array of all actions taken\n",
        "        observations ([int]): Sensor measurements\n",
        "      returns:\n",
        "        list of most probable states.\n",
        "  \"\"\"\n",
        "  pass"
      ],
      "execution_count": 0,
      "outputs": []
    },
    {
      "cell_type": "markdown",
      "metadata": {
        "id": "gtxhlOgbpgUl",
        "colab_type": "text"
      },
      "source": [
        "## Testing\n",
        "\n",
        "We have provided some unit tests for you to run to make sure that your code is working properly. However, these are not the exact same unit tests we will be running to make sure your code works properly, so your performance on these unit tests doesn't equate to your final score. Make sure you add a screenshot of the results of the tests in the appropriate slide in the reflection.\n",
        "\n",
        "**NOTE**: Please don't hard code solutions to pass these unit tests, as these won't be the exact same unit tests we will be running."
      ]
    },
    {
      "cell_type": "code",
      "metadata": {
        "id": "Dwb5TlaLpbas",
        "colab_type": "code",
        "colab": {}
      },
      "source": [
        "import unittest\n",
        "from collections import Counter\n",
        "\n",
        "class TestFunctions(unittest.TestCase):\n",
        "    def test_functions_exist(self) -> None:\n",
        "        \"\"\"\n",
        "        Checks if all the necessary functions exist.\n",
        "        Autograder shall give an error at appropriate places if they don't.\n",
        "        This will inform the user if some missing function caused the error.\n",
        "        \"\"\"\n",
        "        assert 'action_prior' in globals(), \"action_prior is missing\"\n",
        "        assert 'state_prior' in globals(), \"state_prior is missing\"\n",
        "        assert 'calculate_cdf' in globals(), \"calculate_cdf is missing\"\n",
        "        assert 'sample_from_pmf' in globals(), \"sample_from_pmf is missing\"\n",
        "        assert 'sensor_model' in globals(), \"sensor_model is missing\"\n",
        "        assert 'transition_model' in globals(), \"transition_model is missing\"\n",
        "        assert 'maximum_probable_explanation' in globals(), \"maximum_probable_explanation is missing\"\n",
        "        assert 'sample_from_sensor_model' in globals(), \"sample_from_sensor_model is missing\"\n",
        "        assert 'sample_from_transition_model' in globals(), \"sample_from_transition_model is missing\"\n",
        "        assert 'sample_from_dbn' in globals(), \"sample_from_dbn is missing\"\n",
        "\n",
        "    def test_actions_exist(self) -> None:\n",
        "        \"\"\"\n",
        "        Checks if ACTIONS variable exists.\n",
        "        \"\"\"\n",
        "        assert 'ACTIONS' in globals(), \"ACTIONS not found\"\n",
        "        self.assertEqual(len(ACTIONS), 4, \"ACTIONS does not have four possibilities\")\n",
        "\n",
        "    def test_action_prior(self) -> None:\n",
        "        \"\"\"\n",
        "        Checks if action_prior is working correctly.\n",
        "        \"\"\"\n",
        "        prob_sum = 0\n",
        "        for action in ACTIONS:\n",
        "            p = action_prior(action)\n",
        "            assert p is not None, \"None returned by action_prior\"\n",
        "            self.assertGreaterEqual(p, 0, \"Probability from action_prior cannot be lesser than 0\")\n",
        "            self.assertLessEqual(p, 1.0, \"Probability from action_prior cannot be greater than 1\")\n",
        "            prob_sum += p\n",
        "        # Takes care of floating-point errors in Python\n",
        "        # because of how they are stored in memory\n",
        "        self.assertGreaterEqual(prob_sum, 1.0 - 1e-6, \"Sum of probabilities cannot be lesser than 1\")\n",
        "        self.assertLessEqual(prob_sum, 1.0 + 1e-6, \"Sum of probabilities cannot be greater than 1\")\n",
        "\n",
        "    def test_states_exist(self) -> None:\n",
        "        \"\"\"\n",
        "        Checks if STATES variable exists.\n",
        "        \"\"\"\n",
        "        assert 'STATES' in globals(), \"STATES not found\"\n",
        "        self.assertEqual(len(STATES), 100, \"STATES does not have 100 possibilities\")\n",
        "\n",
        "    def test_state_prior(self) -> None:\n",
        "        \"\"\"\n",
        "        Checks if state_prior is working correctly.\n",
        "        \"\"\"\n",
        "        prob_sum = 0\n",
        "        for state in STATES:\n",
        "            p = state_prior(state)\n",
        "            assert p is not None, \"None returned by state_prior\"\n",
        "            self.assertGreaterEqual(p, 0, \"Probability from state_prior cannot be lesser than 0\")\n",
        "            self.assertLessEqual(p, 1.0, \"Probability from state_prior cannot be greater than 1\")\n",
        "            prob_sum += p\n",
        "        # Takes care of floating-point errors in Python\n",
        "        # because of how they are stored in memory\n",
        "        self.assertGreaterEqual(prob_sum, 1.0 - 1e-6, \"Sum of probabilities cannot be lesser than 1\")\n",
        "        self.assertLessEqual(prob_sum, 1.0 + 1e-6, \"Sum of probabilities cannot be greater than 1\")\n",
        "\n",
        "    def test_calculate_cdf(self) -> None:\n",
        "        \"\"\"\n",
        "        Checks if CDF is working properly.\n",
        "        \"\"\"\n",
        "        cdf = calculate_cdf(action_prior, ACTIONS)\n",
        "        assert callable(cdf), \"calculate_cdf must return a function\"\n",
        "        curr_sum = 0\n",
        "        assert curr_sum < cdf(\"Left\"), \"CDF must go in ascending order for the actions passed in\"\n",
        "        curr_sum = cdf(\"Left\")\n",
        "        assert 0.2 - 1e-6 < curr_sum < 0.2 + 1e-6, f\"Final CDF Value must 0.2, {curr_sum} found\"\n",
        "    \n",
        "    def pmf_action_sanity_check(self) -> None:\n",
        "        \"\"\"\n",
        "        Checks if pmf returns an action for actions.\n",
        "        \"\"\"\n",
        "        sample_num_10 = [sample_from_pmf(action_prior, ACTIONS)]\n",
        "        for curr_sample in sample_num_10:\n",
        "            assert curr_sample in ACTIONS, \"PMF returns something other than allowable outputs for actions\"\n",
        "\n",
        "    def test_sensor_model(self) -> None:\n",
        "        \"\"\"\n",
        "        Checks if the sensor model is working properly.\n",
        "        \"\"\"\n",
        "        curr_state = (3, 6)\n",
        "        for i in range(0, 3):\n",
        "            assert sensor_model(i, curr_state) == 0.01, \\\n",
        "                \"Sensor model does not return 0.01 for incorrect observation.\"\n",
        "        assert sensor_model(3, curr_state) == 0.91,\\\n",
        "            \"Sensor model does not return 0.01 for incorrect observation.\"\n",
        "        for i in range(4, 10):\n",
        "            assert sensor_model(i, curr_state) == 0.01, \\\n",
        "                \"Sensor model does not return 0.01 for incorrect observation.\"\n",
        "\n",
        "    def test_transition_model_center_normal(self) -> None:\n",
        "        \"\"\"\n",
        "        Checks if the transition model is working properly if the robot is neither on the edge nor in the corner.\n",
        "        \"\"\"\n",
        "        curr_state = (3, 6)\n",
        "        curr_action = \"Right\"\n",
        "        correct_state = (3, 7)\n",
        "        incorrect_states = [(3, 5), (2, 6), (4, 6)]\n",
        "        invalid_states = [(0, 0), (5, 5), (6, 3)]\n",
        "        assert transition_model(correct_state, curr_state, curr_action) == 0.85,\\\n",
        "            \"Correct state does not return 0.85\"\n",
        "        for curr_incorrect_state in incorrect_states:\n",
        "            assert transition_model(curr_incorrect_state, curr_state, curr_action) == 0.05, \\\n",
        "                \"Incorrect state does not return 0.05\"\n",
        "        for curr_invalid_state in invalid_states:\n",
        "            assert transition_model(curr_invalid_state, curr_state, curr_action) == 0, \\\n",
        "                \"Invalid state does not return 0\"\n",
        "      \n",
        "    def test_transition_model_corner_wall(self) -> None:\n",
        "      \"\"\"\n",
        "      Checks if the transition model is working properly if the robot is on the edge and is moving towards wall.\n",
        "      \"\"\"\n",
        "      curr_state = (0, 0)\n",
        "      curr_action = \"Left\"\n",
        "      correct_state = (0, 0)\n",
        "      incorrect_states = [(0, 1), (1, 0)]\n",
        "      invalid_states = [(1, 1), (5, 5), (6, 3)]\n",
        "      assert transition_model(correct_state, curr_state, curr_action) == 0.90,\\\n",
        "          \"Correct state does not return 0.90\"\n",
        "      for curr_incorrect_state in incorrect_states:\n",
        "          assert transition_model(curr_incorrect_state, curr_state, curr_action) == 0.05, \\\n",
        "              \"Incorrect state does not return 0.05\"\n",
        "      for curr_invalid_state in invalid_states:\n",
        "          assert transition_model(curr_invalid_state, curr_state, curr_action) == 0, \\\n",
        "              \"Invalid state does not return 0\"\n",
        "\n",
        "        \n",
        "    def test_sample_sensor_model(self) -> None:\n",
        "        \"\"\"\n",
        "        Checks if sample_from_sensor_model is working properly.\n",
        "        \"\"\"\n",
        "        correct_state = (1, 1)\n",
        "        samples = [sample_from_sensor_model(correct_state) for _ in range(10000)]\n",
        "        hist = np.array([Counter(samples)[obs] for obs in OBSERVATIONS])\n",
        "        hist = hist / np.sum(hist)  # normalize\n",
        "        sensor_model_flattened = np.array([0.01, 0.91, 0.01, 0.01, 0.01, 0.01, 0.01, 0.01, 0.01, 0.01])\n",
        "        np.testing.assert_allclose(hist, sensor_model_flattened, atol=1e-2, rtol=1e-2)\n",
        "\n",
        "    def test_sample_transition_model(self) -> None:\n",
        "        \"\"\"\n",
        "        Checks if sample_from_transition_model is working properly.\n",
        "        \"\"\"\n",
        "        curr_state = (1, 1)\n",
        "        action = \"Right\"\n",
        "        samples = [sample_from_transition_model(curr_state, action) for _ in range(10000)]\n",
        "        hist = np.array([Counter(samples)[act] for act in [(1, 2), (0, 1), (2, 1), (1, 0)]])\n",
        "        hist = hist / np.sum(hist)  # normalize\n",
        "        transition_model_flattened = np.array([0.85, 0.05, 0.05, 0.05])\n",
        "        np.testing.assert_allclose(hist, transition_model_flattened, atol=1e-1, rtol=1e-1)\n",
        "\n",
        "    def test_sample_from_dbn_types(self) -> None:\n",
        "      \"\"\"\n",
        "      Checks if sample_from_dbn returns the correct types.\n",
        "      \"\"\"\n",
        "      samples = sample_from_dbn()\n",
        "      for state in samples['states']:\n",
        "        assert state in STATES\n",
        "      for obs in samples['observations']:\n",
        "        assert obs in OBSERVATIONS\n",
        "      for action in samples['actions']:\n",
        "        assert action in ACTIONS\n",
        "    \n",
        "    def test_maximum_probable_explanation(self) -> None:\n",
        "      \"\"\"\n",
        "      Checks if maximum_probable_explanation is working properly.\n",
        "      \"\"\"\n",
        "      actions = ['Down', 'Down']\n",
        "      observations = [3, 4, 5]\n",
        "      correct_states = [(3,3), (4,3), (5,3)]\n",
        "      assert maximum_probable_explanation(actions, observations) == correct_states,\\\n",
        "          \"Correct state does not return [(3,3), (3,4), (3,5)]\"\n",
        "\n",
        "def suite():\n",
        "  functions = [\n",
        "               'test_functions_exist',\n",
        "               'test_actions_exist',\n",
        "               'test_action_prior',\n",
        "               'test_states_exist',\n",
        "               'test_state_prior',\n",
        "               'test_calculate_cdf',\n",
        "               'pmf_action_sanity_check',\n",
        "               'test_sensor_model',\n",
        "               'test_transition_model_center_normal',\n",
        "               'test_transition_model_corner_wall',\n",
        "               'test_sample_from_dbn_types',\n",
        "               'test_maximum_probable_explanation',\n",
        "               'test_sample_sensor_model',\n",
        "               'test_sample_transition_model'\n",
        "               ]\n",
        "  suite = unittest.TestSuite()\n",
        "  for func in functions:\n",
        "    suite.addTest(TestFunctions(func))\n",
        "  return suite\n",
        "\n",
        "if __name__ == '__main__':\n",
        "    runner = unittest.TextTestRunner()\n",
        "    runner.run(suite())\n"
      ],
      "execution_count": 0,
      "outputs": []
    },
    {
      "cell_type": "markdown",
      "metadata": {
        "id": "fc0ZPPL03R3c",
        "colab_type": "text"
      },
      "source": [
        "### Extra Credit (Portal) Test Case\n",
        "\n",
        "Run this to check if your `transition_model_portal` passes the given test case. Make sure to add the screenshot of the results in the appropriate slide in the reflection."
      ]
    },
    {
      "cell_type": "code",
      "metadata": {
        "id": "HdvLf1mA3ZyP",
        "colab_type": "code",
        "colab": {}
      },
      "source": [
        "class TestPortal(unittest.TestCase):\n",
        "  def test_transition_model_portal(self) -> None:\n",
        "      \"\"\"\n",
        "      EXTRA CREDIT\n",
        "      Checks if the transition model is working properly for the portal case.\n",
        "      \"\"\"\n",
        "      curr_state = (3,4)\n",
        "      curr_action = 'Right'\n",
        "      correct_state = (6,3)\n",
        "      incorrect_states = [(3,3), (2,4), (4,4)]\n",
        "      invalid_states = [(0,0), (1,1), (2,2)]\n",
        "      assert transition_model_portal(correct_state, curr_state, curr_action) == 0.85,\\\n",
        "          \"Correct state does not return 0.85\"\n",
        "      for curr_incorrect_state in incorrect_states:\n",
        "          assert transition_model_portal(curr_incorrect_state, curr_state, curr_action) == 0.05, \\\n",
        "              \"Incorrect state does not return 0.05\"\n",
        "      for curr_invalid_state in invalid_states:\n",
        "          assert transition_model_portal(curr_invalid_state, curr_state, curr_action) == 0, \\\n",
        "              \"Invalid state does not return 0\"\n",
        "\n",
        "if __name__ == '__main__':\n",
        "  suite = unittest.TestSuite()\n",
        "  suite.addTest(TestPortal(\"test_transition_model_portal\"))\n",
        "  runner = unittest.TextTestRunner()\n",
        "  runner.run(suite)\n"
      ],
      "execution_count": 0,
      "outputs": []
    },
    {
      "cell_type": "markdown",
      "metadata": {
        "id": "KbGko2Pm43XJ",
        "colab_type": "text"
      },
      "source": [
        "### Extra Credit (General MPE) Test Case\n",
        "\n",
        "Run this to check if your `general_maximum_probable_explanation` passes the given test case. Make sure to add the screenshot of the results in the appropriate slide in the reflection."
      ]
    },
    {
      "cell_type": "code",
      "metadata": {
        "id": "ZWSsnqQk49VC",
        "colab_type": "code",
        "colab": {}
      },
      "source": [
        "class TestMPE(unittest.TestCase):\n",
        "  def test_general_maximum_probable_explanation(self) -> None:\n",
        "      \"\"\"\n",
        "      Checks if general_maximum_probable_explanation is working properly.\n",
        "      \"\"\"\n",
        "      actions = ['Down', 'Down', 'Right', 'Up', 'Up', 'Left']\n",
        "      observations = [3, 4, 5, 5, 4, 3, 3]\n",
        "      correct_states = [(3,3), (4,3), (5,3), (5,4), (4,4), (3,4), (3,3)]\n",
        "      assert general_maximum_probable_explanation(actions, observations) == correct_states,\\\n",
        "          \"Correct state does not return correctly\"\n",
        "\n",
        "if __name__ == '__main__':\n",
        "  suite = unittest.TestSuite()\n",
        "  suite.addTest(TestMPE(\"test_general_maximum_probable_explanation\"))\n",
        "  runner = unittest.TextTestRunner()\n",
        "  runner.run(suite)"
      ],
      "execution_count": 0,
      "outputs": []
    },
    {
      "cell_type": "markdown",
      "metadata": {
        "id": "p1ukG3AKpqYx",
        "colab_type": "text"
      },
      "source": [
        "# Reflection [50 Points]\n",
        "\n",
        "You will be answering the questions in the proj2_report_template.pptx (found in the Files tab on Canvas). Save the PowerPoint file as a PDF and rename it to {FirstName1_LastName1}.pdf.\n",
        "\n",
        "# Submission Details\n",
        "\n",
        "### Deliverables\n",
        "A zip file named {FirstName_LastName.zip} with the following files:\n",
        "1. Project2.py (Created from converting `.ipynb` to `.py`)\n",
        "  1. To submit this code, you will need to download this `.ipynb` file as a `.py` file (File -> Download as `.py`).\n",
        "  2. You will also need to include a screenshot of your unit test results in the reflection PowerPoint (a slide has been marked for that).\n",
        "2. {FirstName_LastName.pdf}: This is the reflection PDF.\n",
        "\n",
        "Submit this zip file to Canvas.\n",
        "\n"
      ]
    }
  ]
}